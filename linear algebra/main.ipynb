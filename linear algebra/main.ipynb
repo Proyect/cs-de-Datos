{
 "cells": [
  {
   "cell_type": "code",
   "execution_count": 1,
   "metadata": {},
   "outputs": [
    {
     "name": "stdout",
     "output_type": "stream",
     "text": [
      "A\n",
      " Matriz:\n",
      " [[8 1 3]\n",
      " [8 5 6]\n",
      " [7 9 7]]\n",
      "B\n",
      " Matriz:\n",
      " [[4 3 7]\n",
      " [9 9 0]\n",
      " [7 5 8]]\n",
      "Product\n",
      " Matriz:\n",
      " [[ 62  48  80]\n",
      " [119  99 104]\n",
      " [158 137 105]]\n",
      "Product Hadamard\n",
      " Matriz:\n",
      " [[32  3 21]\n",
      " [72 45  0]\n",
      " [49 45 56]]\n",
      "Identity\n",
      " Matriz:\n",
      " [[1. 0. 0.]\n",
      " [0. 1. 0.]\n",
      " [0. 0. 1.]]\n"
     ]
    }
   ],
   "source": [
    "from main import Algebra"
   ]
  }
 ],
 "metadata": {
  "kernelspec": {
   "display_name": ".venv",
   "language": "python",
   "name": "python3"
  },
  "language_info": {
   "codemirror_mode": {
    "name": "ipython",
    "version": 3
   },
   "file_extension": ".py",
   "mimetype": "text/x-python",
   "name": "python",
   "nbconvert_exporter": "python",
   "pygments_lexer": "ipython3",
   "version": "3.12.2"
  }
 },
 "nbformat": 4,
 "nbformat_minor": 2
}
